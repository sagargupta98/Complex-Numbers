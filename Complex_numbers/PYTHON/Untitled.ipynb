{
 "cells": [
  {
   "cell_type": "code",
   "execution_count": 78,
   "metadata": {},
   "outputs": [],
   "source": [
    "from __future__ import division\n",
    "from math import sqrt\n",
    "from math import atan,cos,sin,degrees\n",
    "\n",
    "\n",
    "class Complex(object):\n",
    "\n",
    "    def __init__(self, real = 0, img = 0):\n",
    "        self.real = real\n",
    "        self.img = img\n",
    "\n",
    "    def __repr__(self):\n",
    "        if self.img < 0:\n",
    "            return \"%s%si\" % (self.real, self.img)\n",
    "        elif self.img > 0:\n",
    "            return \"%s+%si\" % (self.real, self.img)\n",
    "        else:\n",
    "            return \"%s\" % (self.real)\n",
    "\n",
    "    def __add__(self, other):\n",
    "        real = self.real + other.real\n",
    "        img = self.img + other.img\n",
    "        return Complex(real, img)\n",
    "\n",
    "    def __sub__(self, other):\n",
    "        real = self.real - other.real\n",
    "        img = self.img - other.img\n",
    "        return Complex(real, img)\n",
    "\n",
    "    def __mul__(self, other):\n",
    "        real = (self.real * other.real) - (self.img * other.img)\n",
    "        img = (self.real * other.img) + (self.img * other.real)\n",
    "        return Complex(real, img)\n",
    "\n",
    "    def conjugate(self):\n",
    "        return Complex(self.real, -self.img)\n",
    "\n",
    "    def abs(self):\n",
    "        return sqrt(self.real**2 + self.img**2)\n",
    "\n",
    "    def __pow__(self, num):\n",
    "        for _ in range(num):\n",
    "            self = self * self\n",
    "        return self\n",
    "\n",
    "    def __truediv__(self, other):\n",
    "        num = self * other.conjugate()\n",
    "        den = (other.abs())**2\n",
    "        return complex(num.real/den, num.img/den)\n",
    "    \n",
    "    def angle(self):\n",
    "        angle_in_radian = atan(self.real/self.img)\n",
    "        angle_in_degrees = degrees(angle_in_radian)\n",
    "        if self.real > 0 and self.img > 0:\n",
    "            return angle_in_degrees\n",
    "        elif self.real < 0 and self.img > 0:\n",
    "            return angle_in_degrees + 90\n",
    "        elif self.real < 0 and self.img < 0:\n",
    "            return angle_in_degrees + 180\n",
    "        else:\n",
    "            return angle_in_degrees + 270\n",
    "\n",
    "    def polarform(self):\n",
    "        return \"%s(cos(%s) + sin(%s)i)\" % (self.abs(),self.angle(),self.angle())\n"
   ]
  },
  {
   "cell_type": "code",
   "execution_count": 79,
   "metadata": {},
   "outputs": [
    {
     "data": {
      "text/plain": [
       "'1.41421356237(cos(225.0) + sin(225.0)i)'"
      ]
     },
     "execution_count": 79,
     "metadata": {},
     "output_type": "execute_result"
    }
   ],
   "source": [
    "a = Complex(-1, -1)\n",
    "a.angle()\n",
    "a.polarform()\n",
    "\n",
    "\n",
    "    "
   ]
  },
  {
   "cell_type": "code",
   "execution_count": null,
   "metadata": {
    "collapsed": true
   },
   "outputs": [],
   "source": []
  },
  {
   "cell_type": "code",
   "execution_count": null,
   "metadata": {
    "collapsed": true
   },
   "outputs": [],
   "source": []
  }
 ],
 "metadata": {
  "kernelspec": {
   "display_name": "Python 2",
   "language": "python",
   "name": "python2"
  },
  "language_info": {
   "codemirror_mode": {
    "name": "ipython",
    "version": 2
   },
   "file_extension": ".py",
   "mimetype": "text/x-python",
   "name": "python",
   "nbconvert_exporter": "python",
   "pygments_lexer": "ipython2",
   "version": "2.7.13"
  }
 },
 "nbformat": 4,
 "nbformat_minor": 2
}
